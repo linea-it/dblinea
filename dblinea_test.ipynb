{
 "cells": [
  {
   "cell_type": "markdown",
   "id": "b6a9293a-4180-43f4-9b86-1ad7136b8ade",
   "metadata": {},
   "source": [
    "# Notebook de Teste da dblinea"
   ]
  },
  {
   "cell_type": "code",
   "execution_count": 3,
   "id": "32105510-8d85-4ce4-8d0b-196197aa7c1f",
   "metadata": {},
   "outputs": [
    {
     "name": "stdout",
     "output_type": "stream",
     "text": [
      "Collecting dblinea\n",
      "  Using cached dblinea-0.1.14-py3-none-any.whl (10 kB)\n",
      "Requirement already satisfied: numpy>=1.19.4 in /opt/conda/lib/python3.9/site-packages (from dblinea) (1.21.6)\n",
      "Collecting psycopg2-binary>=2.9.1\n",
      "  Using cached psycopg2_binary-2.9.3-cp39-cp39-manylinux_2_17_x86_64.manylinux2014_x86_64.whl (3.0 MB)\n",
      "Requirement already satisfied: requests>=2.23.0 in /opt/conda/lib/python3.9/site-packages (from dblinea) (2.27.1)\n",
      "Requirement already satisfied: sqlalchemy>=1.4.25 in /opt/conda/lib/python3.9/site-packages (from dblinea) (1.4.36)\n",
      "Requirement already satisfied: pandas>=1.2.0 in /opt/conda/lib/python3.9/site-packages (from dblinea) (1.4.2)\n",
      "Requirement already satisfied: python-dateutil>=2.8.1 in /opt/conda/lib/python3.9/site-packages (from pandas>=1.2.0->dblinea) (2.8.2)\n",
      "Requirement already satisfied: pytz>=2020.1 in /opt/conda/lib/python3.9/site-packages (from pandas>=1.2.0->dblinea) (2022.1)\n",
      "Requirement already satisfied: charset-normalizer~=2.0.0 in /opt/conda/lib/python3.9/site-packages (from requests>=2.23.0->dblinea) (2.0.12)\n",
      "Requirement already satisfied: urllib3<1.27,>=1.21.1 in /opt/conda/lib/python3.9/site-packages (from requests>=2.23.0->dblinea) (1.26.9)\n",
      "Requirement already satisfied: certifi>=2017.4.17 in /opt/conda/lib/python3.9/site-packages (from requests>=2.23.0->dblinea) (2021.10.8)\n",
      "Requirement already satisfied: idna<4,>=2.5 in /opt/conda/lib/python3.9/site-packages (from requests>=2.23.0->dblinea) (3.3)\n",
      "Requirement already satisfied: greenlet!=0.4.17 in /opt/conda/lib/python3.9/site-packages (from sqlalchemy>=1.4.25->dblinea) (1.1.2)\n",
      "Requirement already satisfied: six>=1.5 in /opt/conda/lib/python3.9/site-packages (from python-dateutil>=2.8.1->pandas>=1.2.0->dblinea) (1.16.0)\n",
      "Installing collected packages: psycopg2-binary, dblinea\n",
      "Successfully installed dblinea-0.1.14 psycopg2-binary-2.9.3\n"
     ]
    }
   ],
   "source": [
    "!pip install dblinea"
   ]
  },
  {
   "cell_type": "code",
   "execution_count": 4,
   "id": "254fc883-effc-44ba-8a81-2c7d221a08a4",
   "metadata": {},
   "outputs": [],
   "source": [
    "from dblinea import DBBase"
   ]
  },
  {
   "cell_type": "code",
   "execution_count": 5,
   "id": "7425163c-a7fc-40ec-9517-68c21b47dd77",
   "metadata": {},
   "outputs": [],
   "source": [
    "db = DBBase()\n",
    "schema = \"des_dr2\"\n",
    "table = \"coadd_objects\""
   ]
  },
  {
   "cell_type": "code",
   "execution_count": 6,
   "id": "a4b531ea-c2ed-4ff4-b7da-d5a48e2e6762",
   "metadata": {},
   "outputs": [
    {
     "data": {
      "text/plain": [
       "[{'config_name': 'gavo',\n",
       "  'dbname': 'prod_gavo',\n",
       "  'host': 'desdb4.linea.gov.br',\n",
       "  'engine': 'postgresql_psycopg2'}]"
      ]
     },
     "execution_count": 6,
     "metadata": {},
     "output_type": "execute_result"
    }
   ],
   "source": [
    "# Lista os bancos de dados disponiveis.\n",
    "db.available_databases()"
   ]
  },
  {
   "cell_type": "code",
   "execution_count": 7,
   "id": "8912ba26-9168-4134-97d9-b5bb75f556d8",
   "metadata": {},
   "outputs": [
    {
     "name": "stdout",
     "output_type": "stream",
     "text": [
      "[(884219024, 313.374483, -51.885184, 23.29636573791504), (884219207, 313.376736, -51.886442, 24.95577621459961), (884219493, 313.377553, -51.889549, 24.001747131347656), (884219570, 313.380125, -51.88971, 23.608625411987305), (884218699, 313.381525, -51.887442, 17.121112823486328)]\n"
     ]
    }
   ],
   "source": [
    "# Fetchall SqlAlchemy\n",
    "sql = \"select coadd_object_id, ra, dec, mag_auto_g from {}.{} limit 5\".format(schema, table)\n",
    "rows = db.fetchall(sql)\n",
    "print(rows)"
   ]
  },
  {
   "cell_type": "code",
   "execution_count": 8,
   "id": "a091f00f-feb9-4200-9b2c-3ebf2dec0d5b",
   "metadata": {},
   "outputs": [
    {
     "name": "stdout",
     "output_type": "stream",
     "text": [
      "[{'coadd_object_id': 884219024, 'ra': 313.374483, 'dec': -51.885184, 'mag_auto_g': 23.29636573791504}, {'coadd_object_id': 884219207, 'ra': 313.376736, 'dec': -51.886442, 'mag_auto_g': 24.95577621459961}, {'coadd_object_id': 884219493, 'ra': 313.377553, 'dec': -51.889549, 'mag_auto_g': 24.001747131347656}, {'coadd_object_id': 884219570, 'ra': 313.380125, 'dec': -51.88971, 'mag_auto_g': 23.608625411987305}, {'coadd_object_id': 884218699, 'ra': 313.381525, 'dec': -51.887442, 'mag_auto_g': 17.121112823486328}]\n"
     ]
    }
   ],
   "source": [
    "# Fetchall Dict\n",
    "sql = \"select coadd_object_id, ra, dec, mag_auto_g from {}.{} limit 5\".format(schema, table)\n",
    "rows = db.fetchall_dict(sql)\n",
    "print(rows)"
   ]
  },
  {
   "cell_type": "code",
   "execution_count": 9,
   "id": "dd091fdb-d68d-4c7f-818b-38b535dc62d4",
   "metadata": {},
   "outputs": [
    {
     "name": "stdout",
     "output_type": "stream",
     "text": [
      "   coadd_object_id          ra        dec  mag_auto_g\n",
      "0        884219024  313.374483 -51.885184   23.296366\n",
      "1        884219207  313.376736 -51.886442   24.955776\n",
      "2        884219493  313.377553 -51.889549   24.001747\n",
      "3        884219570  313.380125 -51.889710   23.608625\n",
      "4        884218699  313.381525 -51.887442   17.121113\n"
     ]
    }
   ],
   "source": [
    "# Fetchall Pandas Dataframe\n",
    "import pandas as pd\n",
    "\n",
    "sql = \"select coadd_object_id, ra, dec, mag_auto_g from {}.{} limit 5\".format(schema, table)\n",
    "rows = db.fetchall_df(sql)\n",
    "print(rows)"
   ]
  },
  {
   "cell_type": "code",
   "execution_count": 10,
   "id": "bc579345-ca54-4db9-93bf-b67ebe8e2f37",
   "metadata": {},
   "outputs": [
    {
     "name": "stdout",
     "output_type": "stream",
     "text": [
      "(884219024, 313.374483, -51.885184, 23.29636573791504)\n"
     ]
    }
   ],
   "source": [
    "# Fetchone SqlAlchemy\n",
    "sql = \"select coadd_object_id, ra, dec, mag_auto_g from {}.{} limit 5\".format(schema, table)\n",
    "row = db.fetchone(sql)\n",
    "print(row)"
   ]
  },
  {
   "cell_type": "code",
   "execution_count": 11,
   "id": "b28f7b84-a364-400f-be5f-c92e7cb61326",
   "metadata": {},
   "outputs": [
    {
     "name": "stdout",
     "output_type": "stream",
     "text": [
      "(884219024, 313.374483, -51.885184, 23.29636573791504)\n"
     ]
    }
   ],
   "source": [
    "# Fetchone Dict\n",
    "sql = \"select coadd_object_id, ra, dec, mag_auto_g from {}.{} limit 5\".format(schema, table)\n",
    "row = db.fetchone(sql)\n",
    "print(row)"
   ]
  },
  {
   "cell_type": "code",
   "execution_count": 12,
   "id": "e1728e7b-5844-4f4a-bdaa-b13f15e13282",
   "metadata": {},
   "outputs": [
    {
     "name": "stdout",
     "output_type": "stream",
     "text": [
      "884219024\n"
     ]
    }
   ],
   "source": [
    "# Fetchscalar (retorna o valor da primeira linha na primeira coluna)\n",
    "sql = \"select coadd_object_id, ra, dec, mag_auto_g from {}.{} limit 5\".format(schema, table)\n",
    "a = db.fetch_scalar(sql)\n",
    "print(a)"
   ]
  },
  {
   "cell_type": "code",
   "execution_count": 13,
   "id": "98ba6f26-2dd4-47a3-a0de-8ecefc7b4f48",
   "metadata": {},
   "outputs": [
    {
     "name": "stdout",
     "output_type": "stream",
     "text": [
      "['coadd_object_id', 'tilename', 'hpix_32', 'hpix_64', 'hpix_1024']\n"
     ]
    }
   ],
   "source": [
    "#List Table Columns \n",
    "columns = db.get_table_columns(table, schema)\n",
    "print(columns[0:5])"
   ]
  },
  {
   "cell_type": "code",
   "execution_count": 14,
   "id": "0423a8da-1d0f-4950-b532-68a3a235fddd",
   "metadata": {},
   "outputs": [
    {
     "name": "stdout",
     "output_type": "stream",
     "text": [
      "[{'name': 'coadd_object_id', 'type': BIGINT()}, {'name': 'tilename', 'type': TEXT()}, {'name': 'hpix_32', 'type': BIGINT()}, {'name': 'hpix_64', 'type': BIGINT()}, {'name': 'hpix_1024', 'type': BIGINT()}]\n"
     ]
    }
   ],
   "source": [
    "#Describe Table \n",
    "columns = db.describe_table(table, schema)\n",
    "print(columns[0:5])"
   ]
  },
  {
   "cell_type": "markdown",
   "id": "6990e017-9580-481a-b81f-070016b64a2b",
   "metadata": {
    "tags": []
   },
   "source": [
    "## Integração ScienceServer (DRI - TargetViewer)\n",
    "\n",
    "Para a integração é necessário um token de autenticação, o usuario deve logar no science server, acessar o target viewer e no menu principal clicar em \"API Token\" e depois em \"Generate Token\"\n",
    "\n",
    "Sobre o Token: \n",
    "\n",
    "- Apenas um token pode ser utilizado por vez.\n",
    "- Toda vez que se clica em \"Generate new token\" o token antigo é removido.\n",
    "- Copie o token em um lugar seguro.\n",
    "- Após a janela \"API Token\" ser fechada o token não será mais visivel."
   ]
  },
  {
   "cell_type": "code",
   "execution_count": 28,
   "id": "4067ef8c-046b-4292-b57e-7eebd37095ad",
   "metadata": {},
   "outputs": [
    {
     "name": "stdout",
     "output_type": "stream",
     "text": [
      " Target List ID: 153 URL: https://scienceserver.linea.gov.br/target/#cv/153\n"
     ]
    }
   ],
   "source": [
    "from dblinea import DBBase\n",
    "from dblinea import ScienceServerApi\n",
    "\n",
    "db = DBBase()\n",
    "schema = \"des_dr2\"\n",
    "table = \"coadd_objects\"\n",
    "\n",
    "# Ler uma tabela do bando de dados\n",
    "sql = \"select coadd_object_id, ra, dec, mag_auto_g from {}.{} limit 5\".format(schema, table)\n",
    "# rows é uma lista de dicts\n",
    "rows = db.fetchall_dict(sql)\n",
    "\n",
    "\n",
    "token = '9b02a37f646592f67b2c5d011a3e28bf42d87245'\n",
    "\n",
    "# Instancia da classe de intergração com Science Server\n",
    "ss = ScienceServerApi(token)\n",
    "# Importa os dados da tabela no Target Viewer\n",
    "target_list = ss.target_list_from_list('My Target List', rows)\n",
    "# print(target_list)\n",
    "print(f\" Target List ID: {target_list['id']} URL: {target_list['url']}\")"
   ]
  },
  {
   "cell_type": "code",
   "execution_count": 33,
   "id": "85560162-b30c-4387-a1fb-63bed9e08ae6",
   "metadata": {},
   "outputs": [
    {
     "name": "stdout",
     "output_type": "stream",
     "text": [
      " Target List ID: 155 URL: https://scienceserver.linea.gov.br/target/#cv/155\n"
     ]
    }
   ],
   "source": [
    "# Exemplo Importando um Pandas Dataframe direto para o target viewer\n",
    "from dblinea import DBBase\n",
    "from dblinea import ScienceServerApi\n",
    "\n",
    "db = DBBase()\n",
    "schema = \"des_dr2\"\n",
    "table = \"coadd_objects\"\n",
    "\n",
    "# Ler uma tabela do bando de dados\n",
    "sql = \"select coadd_object_id, ra, dec, mag_auto_g from {}.{} limit 5\".format(schema, table)\n",
    "# df é uma instancia de Pandas Dataframe\n",
    "df = db.fetchall_df(sql)\n",
    "\n",
    "\n",
    "token = '9b02a37f646592f67b2c5d011a3e28bf42d87245'\n",
    "\n",
    "# Instancia da classe de intergração com Science Server\n",
    "ss = ScienceServerApi(token)\n",
    "\n",
    "# Importa os dados da tabela no Target Viewer\n",
    "target_list = ss.target_list_from_list('My Target List', rows)\n",
    "\n",
    "# print(target_list)\n",
    "print(f\" Target List ID: {target_list['id']} URL: {target_list['url']}\")"
   ]
  },
  {
   "cell_type": "code",
   "execution_count": 34,
   "id": "686c2484-bd70-41f8-ae5f-c2c55d01338c",
   "metadata": {},
   "outputs": [
    {
     "name": "stdout",
     "output_type": "stream",
     "text": [
      "{'id': 155, 'owner': 'gverde', 'date': '2022-06-30T18:52:16.992669Z', 'internal_name': 'my_target_list', 'display_name': 'My Target List', 'tbl_schema': 'dri_catalog', 'tbl_name': 'my_target_list', 'rows': 5, 'url': 'https://scienceserver.linea.gov.br/target/#cv/155'}\n"
     ]
    }
   ],
   "source": [
    "# Recuperar os metadados de uma target list pelo ID\n",
    "from dblinea import ScienceServerApi\n",
    "\n",
    "token = '9b02a37f646592f67b2c5d011a3e28bf42d87245'\n",
    "ss = ScienceServerApi(token)\n",
    "response = ss.get_catalog(155)\n",
    "print(response)"
   ]
  },
  {
   "cell_type": "code",
   "execution_count": 35,
   "id": "cc539077-1583-4a99-bf2d-3ec44096c8e9",
   "metadata": {},
   "outputs": [
    {
     "name": "stdout",
     "output_type": "stream",
     "text": [
      "{'success': True, 'message': 'Target List successfully removed'}\n"
     ]
    }
   ],
   "source": [
    "# Exemplo de como Remover uma Target List\n",
    "from dblinea import ScienceServerApi\n",
    "\n",
    "token = '9b02a37f646592f67b2c5d011a3e28bf42d87245'\n",
    "ss = ScienceServerApi(token)\n",
    "response = ss.remove_target_list(155)\n",
    "print(response)"
   ]
  },
  {
   "cell_type": "code",
   "execution_count": null,
   "id": "b30efbd5-6739-49c6-8362-624e7e841475",
   "metadata": {},
   "outputs": [],
   "source": []
  }
 ],
 "metadata": {
  "kernelspec": {
   "display_name": "Python 3 (ipykernel)",
   "language": "python",
   "name": "python3"
  },
  "language_info": {
   "codemirror_mode": {
    "name": "ipython",
    "version": 3
   },
   "file_extension": ".py",
   "mimetype": "text/x-python",
   "name": "python",
   "nbconvert_exporter": "python",
   "pygments_lexer": "ipython3",
   "version": "3.9.12"
  }
 },
 "nbformat": 4,
 "nbformat_minor": 5
}
