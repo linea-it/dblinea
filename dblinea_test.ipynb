{
 "cells": [
  {
   "cell_type": "markdown",
   "id": "b6a9293a-4180-43f4-9b86-1ad7136b8ade",
   "metadata": {},
   "source": [
    "# Notebook de Teste da dblinea"
   ]
  },
  {
   "cell_type": "code",
   "execution_count": null,
   "id": "32105510-8d85-4ce4-8d0b-196197aa7c1f",
   "metadata": {},
   "outputs": [],
   "source": [
    "!pip install dblinea"
   ]
  },
  {
   "cell_type": "code",
   "execution_count": null,
   "id": "254fc883-effc-44ba-8a81-2c7d221a08a4",
   "metadata": {},
   "outputs": [],
   "source": [
    "from dblinea import DBBase"
   ]
  },
  {
   "cell_type": "code",
   "execution_count": null,
   "id": "7425163c-a7fc-40ec-9517-68c21b47dd77",
   "metadata": {},
   "outputs": [],
   "source": [
    "db = DBBase()\n",
    "schema = \"des_dr2\"\n",
    "table = \"coadd_objects\""
   ]
  },
  {
   "cell_type": "code",
   "execution_count": null,
   "id": "a4b531ea-c2ed-4ff4-b7da-d5a48e2e6762",
   "metadata": {},
   "outputs": [],
   "source": [
    "# Lista os bancos de dados disponiveis.\n",
    "db.available_databases()"
   ]
  },
  {
   "cell_type": "code",
   "execution_count": null,
   "id": "8912ba26-9168-4134-97d9-b5bb75f556d8",
   "metadata": {},
   "outputs": [],
   "source": [
    "# Fetchall SqlAlchemy\n",
    "sql = \"select coadd_object_id, ra, dec, mag_auto_g from {}.{} limit 5\".format(schema, table)\n",
    "rows = db.fetchall(sql)\n",
    "print(rows)"
   ]
  },
  {
   "cell_type": "code",
   "execution_count": null,
   "id": "a091f00f-feb9-4200-9b2c-3ebf2dec0d5b",
   "metadata": {},
   "outputs": [],
   "source": [
    "# Fetchall Dict\n",
    "sql = \"select coadd_object_id, ra, dec, mag_auto_g from {}.{} limit 5\".format(schema, table)\n",
    "rows = db.fetchall_dict(sql)\n",
    "print(rows)"
   ]
  },
  {
   "cell_type": "code",
   "execution_count": null,
   "id": "dd091fdb-d68d-4c7f-818b-38b535dc62d4",
   "metadata": {},
   "outputs": [],
   "source": [
    "# Fetchall Pandas Dataframe\n",
    "import pandas as pd\n",
    "\n",
    "sql = \"select coadd_object_id, ra, dec, mag_auto_g from {}.{} limit 5\".format(schema, table)\n",
    "rows = db.fetchall_df(sql)\n",
    "print(rows)"
   ]
  },
  {
   "cell_type": "code",
   "execution_count": null,
   "id": "bc579345-ca54-4db9-93bf-b67ebe8e2f37",
   "metadata": {},
   "outputs": [],
   "source": [
    "# Fetchone SqlAlchemy\n",
    "sql = \"select coadd_object_id, ra, dec, mag_auto_g from {}.{} limit 5\".format(schema, table)\n",
    "row = db.fetchone(sql)\n",
    "print(row)"
   ]
  },
  {
   "cell_type": "code",
   "execution_count": null,
   "id": "b28f7b84-a364-400f-be5f-c92e7cb61326",
   "metadata": {},
   "outputs": [],
   "source": [
    "# Fetchone Dict\n",
    "sql = \"select coadd_object_id, ra, dec, mag_auto_g from {}.{} limit 5\".format(schema, table)\n",
    "row = db.fetchone(sql)\n",
    "print(row)"
   ]
  },
  {
   "cell_type": "code",
   "execution_count": null,
   "id": "e1728e7b-5844-4f4a-bdaa-b13f15e13282",
   "metadata": {},
   "outputs": [],
   "source": [
    "# Fetchscalar (retorna o valor da primeira linha na primeira coluna)\n",
    "sql = \"select coadd_object_id, ra, dec, mag_auto_g from {}.{} limit 5\".format(schema, table)\n",
    "a = db.fetch_scalar(sql)\n",
    "print(a)"
   ]
  },
  {
   "cell_type": "code",
   "execution_count": null,
   "id": "98ba6f26-2dd4-47a3-a0de-8ecefc7b4f48",
   "metadata": {},
   "outputs": [],
   "source": [
    "# List Table Columns\n",
    "columns = db.get_table_columns(table, schema)\n",
    "print(columns[0:5])"
   ]
  },
  {
   "cell_type": "code",
   "execution_count": null,
   "id": "0423a8da-1d0f-4950-b532-68a3a235fddd",
   "metadata": {},
   "outputs": [],
   "source": [
    "# Describe Table\n",
    "columns = db.describe_table(table, schema)\n",
    "print(columns[0:5])"
   ]
  },
  {
   "cell_type": "markdown",
   "id": "6990e017-9580-481a-b81f-070016b64a2b",
   "metadata": {
    "tags": []
   },
   "source": [
    "## Integração ScienceServer (DRI - TargetViewer)\n",
    "\n",
    "Para a integração é necessário um token de autenticação, o usuario deve logar no science server, acessar o target viewer e no menu principal clicar em \"API Token\" e depois em \"Generate Token\"\n",
    "\n",
    "Sobre o Token: \n",
    "\n",
    "- Apenas um token pode ser utilizado por vez.\n",
    "- Toda vez que se clica em \"Generate new token\" o token antigo é removido.\n",
    "- Copie o token em um lugar seguro.\n",
    "- Após a janela \"API Token\" ser fechada o token não será mais visivel."
   ]
  },
  {
   "cell_type": "code",
   "execution_count": null,
   "id": "4067ef8c-046b-4292-b57e-7eebd37095ad",
   "metadata": {},
   "outputs": [],
   "source": [
    "from dblinea import DBBase\n",
    "from dblinea import ScienceServerApi\n",
    "\n",
    "db = DBBase()\n",
    "schema = \"des_dr2\"\n",
    "table = \"coadd_objects\"\n",
    "\n",
    "# Ler uma tabela do bando de dados\n",
    "sql = \"select coadd_object_id, ra, dec, mag_auto_g from {}.{} limit 5\".format(schema, table)\n",
    "# rows é uma lista de dicts\n",
    "rows = db.fetchall_dict(sql)\n",
    "\n",
    "\n",
    "token = \"9b02a37f646592f67b2c5d011a3e28bf42d87245\"\n",
    "\n",
    "# Instancia da classe de intergração com Science Server\n",
    "ss = ScienceServerApi(token)\n",
    "# Importa os dados da tabela no Target Viewer\n",
    "target_list = ss.target_list_from_list(\"My Target List\", rows)\n",
    "# print(target_list)\n",
    "print(f\" Target List ID: {target_list['id']} URL: {target_list['url']}\")"
   ]
  },
  {
   "cell_type": "code",
   "execution_count": null,
   "id": "85560162-b30c-4387-a1fb-63bed9e08ae6",
   "metadata": {},
   "outputs": [],
   "source": [
    "# Exemplo Importando um Pandas Dataframe direto para o target viewer\n",
    "from dblinea import DBBase\n",
    "from dblinea import ScienceServerApi\n",
    "\n",
    "db = DBBase()\n",
    "schema = \"des_dr2\"\n",
    "table = \"coadd_objects\"\n",
    "\n",
    "# Ler uma tabela do bando de dados\n",
    "sql = \"select coadd_object_id, ra, dec, mag_auto_g from {}.{} limit 5\".format(schema, table)\n",
    "# df é uma instancia de Pandas Dataframe\n",
    "df = db.fetchall_df(sql)\n",
    "\n",
    "\n",
    "token = \"9b02a37f646592f67b2c5d011a3e28bf42d87245\"\n",
    "\n",
    "# Instancia da classe de intergração com Science Server\n",
    "ss = ScienceServerApi(token)\n",
    "\n",
    "# Importa os dados da tabela no Target Viewer\n",
    "target_list = ss.target_list_from_list(\"My Target List\", rows)\n",
    "\n",
    "# print(target_list)\n",
    "print(f\" Target List ID: {target_list['id']} URL: {target_list['url']}\")"
   ]
  },
  {
   "cell_type": "code",
   "execution_count": null,
   "id": "686c2484-bd70-41f8-ae5f-c2c55d01338c",
   "metadata": {},
   "outputs": [],
   "source": [
    "# Recuperar os metadados de uma target list pelo ID\n",
    "from dblinea import ScienceServerApi\n",
    "\n",
    "token = \"9b02a37f646592f67b2c5d011a3e28bf42d87245\"\n",
    "ss = ScienceServerApi(token)\n",
    "response = ss.get_catalog(155)\n",
    "print(response)"
   ]
  },
  {
   "cell_type": "code",
   "execution_count": null,
   "id": "cc539077-1583-4a99-bf2d-3ec44096c8e9",
   "metadata": {},
   "outputs": [],
   "source": [
    "# Exemplo de como Remover uma Target List\n",
    "from dblinea import ScienceServerApi\n",
    "\n",
    "token = \"9b02a37f646592f67b2c5d011a3e28bf42d87245\"\n",
    "ss = ScienceServerApi(token)\n",
    "response = ss.remove_target_list(155)\n",
    "print(response)"
   ]
  },
  {
   "cell_type": "code",
   "execution_count": null,
   "id": "b30efbd5-6739-49c6-8362-624e7e841475",
   "metadata": {},
   "outputs": [],
   "source": []
  }
 ],
 "metadata": {
  "kernelspec": {
   "display_name": "Python 3 (ipykernel)",
   "language": "python",
   "name": "python3"
  },
  "language_info": {
   "codemirror_mode": {
    "name": "ipython",
    "version": 3
   },
   "file_extension": ".py",
   "mimetype": "text/x-python",
   "name": "python",
   "nbconvert_exporter": "python",
   "pygments_lexer": "ipython3",
   "version": "3.8.17"
  }
 },
 "nbformat": 4,
 "nbformat_minor": 5
}
